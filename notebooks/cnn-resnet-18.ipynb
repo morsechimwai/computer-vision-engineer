{
 "cells": [
  {
   "cell_type": "markdown",
   "id": "fa782373",
   "metadata": {},
   "source": [
    "## ResNet-18\n",
    "\n",
    "Kaiming He, Xiangyu Zhang, Shaoqing Ren, Jian Sun (2015). Deep Residual Learning for Image Recognition [link](https://arxiv.org/pdf/1512.03385)"
   ]
  },
  {
   "cell_type": "markdown",
   "id": "ae17161b",
   "metadata": {},
   "source": [
    "ในงานของ He, Zhang, Ren, และ Sun (2015) เรื่อง “Deep Residual Learning for Image Recognition” — หรือที่รู้จักกันว่า ResNet — ผู้เขียนเสนอแนวคิด Residual Learning เพื่อแก้ปัญหาที่เกิดเมื่อเพิ่มความลึกของโครงข่ายประสาทเทียมแล้วประสิทธิภาพกลับลดลง (degradation problem).\n",
    "\n",
    "โมเดลนี้ใช้ skip connections หรือ identity shortcuts เพื่อให้แต่ละ layer เรียนรู้ “residual mapping” แทนการเรียนรู้ mapping ตรง ๆ ช่วยให้ gradient ไหลย้อนกลับได้ราบรื่นขึ้น และสามารถเทรนโมเดลลึกกว่า 100 ชั้นได้โดยไม่สูญเสียความแม่นยำ.\n",
    "\n",
    "ผลลัพธ์คือ ResNet ทำลายสถิติในงาน ImageNet 2015 โดยลด error rate ลงอย่างมาก และกลายเป็นสถาปัตยกรรมพื้นฐานของโมเดลสมัยใหม่เกือบทั้งหมดในงานด้าน Computer Vision."
   ]
  },
  {
   "cell_type": "markdown",
   "id": "e8f5b1f0",
   "metadata": {},
   "source": [
    "#### ResNet-18 Architecture"
   ]
  },
  {
   "cell_type": "markdown",
   "id": "f8d98309",
   "metadata": {},
   "source": [
    "Input Layer\n",
    "- ขนาด: 224×224×3 (ภาพสี RGB)\n",
    "\n",
    "##### Conv1: Convolution Layer\n",
    "- ฟิลเตอร์: 64\n",
    "- Kernel size: 7×7\n",
    "- Stride: 2\n",
    "- Padding: 3\n",
    "- Activation: ReLU\n",
    "- Normalization: Batch Normalization (BN)\n",
    "- Pooling: Max Pooling 3×3, stride 2\n",
    "- Output: 56×56×64\n",
    "\n",
    "##### Conv2_x: Residual Block (2 Blocks)\n",
    "Block 1\n",
    "- Conv1: 3×3, 64 filters, stride 1, padding 1\n",
    "- Conv2: 3×3, 64 filters, stride 1, padding 1\n",
    "- Shortcut: Identity (no projection)\n",
    "- Activation: ReLU\n",
    "- Output: 56×56×64\n",
    "\n",
    "Block 2\n",
    "- Conv1: 3×3, 64 filters, stride 1, padding 1\n",
    "- Conv2: 3×3, 64 filters, stride 1, padding 1\n",
    "- Shortcut: Identity\n",
    "- Activation: ReLU\n",
    "- Output: 56×56×64\n",
    "\n",
    "##### Conv3_x: Residual Block (2 Blocks)\n",
    "Block 1\n",
    "- Conv1: 3×3, 128 filters, stride 2, padding 1\n",
    "- Conv2: 3×3, 128 filters, stride 1, padding 1\n",
    "- Shortcut: 1×1 Conv (stride 2)\n",
    "- Activation: ReLU\n",
    "- Output: 28×28×128\n",
    "\n",
    "Block 2\n",
    "- Conv1: 3×3, 128 filters, stride 1, padding 1\n",
    "- Conv2: 3×3, 128 filters, stride 1, padding 1\n",
    "- Shortcut: Identity\n",
    "- Activation: ReLU\n",
    "- Output: 28×28×128\n",
    "\n",
    "##### Conv4_x: Residual Block (2 Blocks)\n",
    "Block 1\n",
    "- Conv1: 3×3, 256 filters, stride 2, padding 1\n",
    "- Conv2: 3×3, 256 filters, stride 1, padding 1\n",
    "- Shortcut: 1×1 Conv (stride 2)\n",
    "- Activation: ReLU\n",
    "- Output: 14×14×256\n",
    "\n",
    "Block 2\n",
    "- Conv1: 3×3, 256 filters, stride 1, padding 1\n",
    "- Conv2: 3×3, 256 filters, stride 1, padding 1\n",
    "- Shortcut: Identity\n",
    "- Activation: ReLU\n",
    "- Output: 14×14×256\n",
    "\n",
    "##### Conv5_x: Residual Block (2 Blocks)\n",
    "\n",
    "Block 1\n",
    "- Conv1: 3×3, 512 filters, stride 2, padding 1\n",
    "- Conv2: 3×3, 512 filters, stride 1, padding 1\n",
    "- Shortcut: 1×1 Conv (stride 2)\n",
    "- Activation: ReLU\n",
    "- Output: 7×7×512\n",
    "\n",
    "Block 2\n",
    "- Conv1: 3×3, 512 filters, stride 1, padding 1\n",
    "- Conv2: 3×3, 512 filters, stride 1, padding 1\n",
    "- Shortcut: Identity\n",
    "- Activation: ReLU\n",
    "- Output: 7×7×512\n",
    "\n",
    "##### Average Pooling Layer\n",
    "- Global Average Pooling 7×7\n",
    "- Output: 1×1×512\n",
    "\n",
    "##### Fully Connected (FC) / Output Layer\n",
    "- Neurons: 1000 (สำหรับ ImageNet)\n",
    "- Activation: Softmax (ใช้จำแนกภาพ)"
   ]
  },
  {
   "cell_type": "markdown",
   "id": "1eaff3d8",
   "metadata": {},
   "source": [
    "### Install Libraries\n",
    "\n",
    "- torch\n",
    "- - PyTorch หลัก ใช้สร้างโมเดล Deep Learning, ทำคำนวณแบบ tensor (คล้าย NumPy แต่ optimized บน GPU), training neural network\n",
    "\n",
    "- torchvision\n",
    "- - เป็น extension สำหรับงาน Computer Vision เช่น โหลด datasets (MNIST, CIFAR, ImageNet), มี transforms (resize, normalize) และโมดูลโมเดลสำเร็จรูป (ResNet, VGG ฯลฯ)\n",
    "\n",
    "- torchmetrics \n",
    "- - เอาไว้ใช้คำนวณ metrics สำหรับประเมินโมเดล เช่น Accuracy, Precision, Recall, F1-score โดยออกแบบมาให้ใช้งานง่ายและทำงานร่วมกับ PyTorch Lightning หรือ training loop ปกติ\n",
    "  \n",
    "- matplotlib\n",
    "- - library สำหรับ การ plot กราฟและ visualization เช่น แสดงผลการ training loss, accuracy per epoch, ดูรูปภาพใน dataset ฯลฯ\n",
    "  \n",
    "\n",
    "- numpy\n",
    "- - library สำหรับการคำนวณเชิงตัวเลข (Numerical Computation) ใช้สำหรับจัดการ array และ matrix (ข้อมูลหลายมิติ) ได้อย่างมีประสิทธิภาพ และรองรับการคำนวณทางคณิตศาสตร์ต่าง ๆ"
   ]
  },
  {
   "cell_type": "markdown",
   "id": "8f4fa28b",
   "metadata": {},
   "source": [
    "### Set Up Environments"
   ]
  },
  {
   "cell_type": "code",
   "execution_count": 1,
   "id": "d9126544",
   "metadata": {},
   "outputs": [
    {
     "name": "stdout",
     "output_type": "stream",
     "text": [
      "Using device: mps\n"
     ]
    }
   ],
   "source": [
    "import os, random, time\n",
    "import numpy as np\n",
    "import torch\n",
    "import torch.nn as nn\n",
    "import torch.nn.functional as F\n",
    "from torch.utils.data import DataLoader, random_split\n",
    "from torchvision import datasets, transforms\n",
    "from torchmetrics.classification import MulticlassAccuracy, MulticlassConfusionMatrix\n",
    "import matplotlib.pyplot as plt\n",
    "from pathlib import Path\n",
    "\n",
    "# fix random seed for reproducibility\n",
    "SEED = 42\n",
    "\n",
    "random.seed(SEED)\n",
    "np.random.seed(SEED)\n",
    "torch.manual_seed(SEED)\n",
    "torch.cuda.manual_seed_all(SEED)\n",
    "\n",
    "# For reproducibility when using CUDA\n",
    "torch.backends.cudnn.deterministic = True\n",
    "torch.backends.cudnn.benchmark = False\n",
    "\n",
    "# Device configuration\n",
    "if torch.backends.mps.is_available():\n",
    "    DEVICE = torch.device(\"mps\")  # for Apple Silicon GPU\n",
    "elif torch.cuda.is_available():\n",
    "    DEVICE = torch.device(\"cuda\")  # for NVIDIA GPU\n",
    "else:\n",
    "    DEVICE = torch.device(\"cpu\")   # use CPU if no GPU is available\n",
    "\n",
    "print(\"Using device:\", DEVICE)"
   ]
  },
  {
   "cell_type": "markdown",
   "id": "97abaef9",
   "metadata": {},
   "source": [
    "### Transforms & Datasets\n",
    "- using CIFAR-100 [link](https://www.cs.toronto.edu/~kriz/cifar.html) \n",
    "- Download / Load Datasets (with transforms)\n",
    "- Clean Datasets\n",
    "- Preprocess (Split train/val)\n",
    "- Display / Inspect "
   ]
  },
  {
   "cell_type": "code",
   "execution_count": null,
   "id": "1a7ea6d8",
   "metadata": {},
   "outputs": [],
   "source": [
    "# mean and std for CIFAR-100\n",
    "CIFAR100_MEAN = (0.5071, 0.4867, 0.4408)\n",
    "CIFAR100_STD  = (0.2675, 0.2565, 0.2761)\n",
    "\n",
    "# Base transforms (no augmentation) for validation and test sets\n",
    "base_transforms = transforms.Compose([\n",
    "    transforms.Resize(256), # resize to larger size before crop\n",
    "    transforms.CenterCrop(224), # center crop\n",
    "    transforms.ToTensor(),\n",
    "    transforms.Normalize(CIFAR100_MEAN, CIFAR100_STD),\n",
    "])\n",
    "\n",
    "# Augmentation for training set\n",
    "train_transforms = transforms.Compose([\n",
    "    transforms.RandomResizedCrop(224, scale=(0.8, 1.0)), # resize and crop\n",
    "    transforms.RandomHorizontalFlip(), # random horizontal flip\n",
    "    transforms.ToTensor(),\n",
    "    transforms.Normalize(CIFAR100_MEAN, CIFAR100_STD),\n",
    "])"
   ]
  },
  {
   "cell_type": "markdown",
   "id": "b1f45ffc",
   "metadata": {},
   "source": [
    "#### Download / Load Datasets"
   ]
  },
  {
   "cell_type": "code",
   "execution_count": 3,
   "id": "ae56c89f",
   "metadata": {},
   "outputs": [
    {
     "name": "stdout",
     "output_type": "stream",
     "text": [
      "Train samples: 50000, Test samples: 10000\n"
     ]
    }
   ],
   "source": [
    "DATA_DIR = \"../data\" # directory to store datasets\n",
    "\n",
    "# Download / Load training and test datasets\n",
    "train_ds_raw = datasets.CIFAR100(\n",
    "    root=DATA_DIR, train=True, download=True, transform=train_transforms\n",
    ")\n",
    "test_ds = datasets.CIFAR100(\n",
    "    root=DATA_DIR, train=False, download=True, transform=base_transforms\n",
    ")\n",
    "\n",
    "# Print dataset sizes\n",
    "print(f\"Train samples: {len(train_ds_raw)}, Test samples: {len(test_ds)}\")"
   ]
  },
  {
   "cell_type": "markdown",
   "id": "1eff000f",
   "metadata": {},
   "source": [
    "#### Clean Datasets"
   ]
  },
  {
   "cell_type": "code",
   "execution_count": 4,
   "id": "74057219",
   "metadata": {},
   "outputs": [],
   "source": [
    "class SafeDataset(torch.utils.data.Dataset):\n",
    "    def __init__(self, ds):\n",
    "        self.ds = ds\n",
    "        self.bad_indices = []\n",
    "\n",
    "    def __len__(self):\n",
    "        return len(self.ds)\n",
    "\n",
    "    def __getitem__(self, idx):\n",
    "        try:\n",
    "            return self.ds[idx]\n",
    "        except Exception as e:\n",
    "            self.bad_indices.append(idx)\n",
    "            # If a bad sample is encountered, return a random good sample\n",
    "            ridx = random.randint(0, len(self.ds) - 1)\n",
    "            return self.ds[ridx]\n",
    "\n",
    "train_ds = SafeDataset(train_ds_raw)"
   ]
  },
  {
   "cell_type": "markdown",
   "id": "3098907f",
   "metadata": {},
   "source": [
    "#### Split train/val"
   ]
  },
  {
   "cell_type": "code",
   "execution_count": 5,
   "id": "4efacd8e",
   "metadata": {},
   "outputs": [
    {
     "name": "stdout",
     "output_type": "stream",
     "text": [
      "Train: 45000 | Val: 5000\n"
     ]
    }
   ],
   "source": [
    "# Split train_ds into training and validation sets\n",
    "VAL_RATIO = 0.1\n",
    "\n",
    "# Determine sizes\n",
    "val_size = int(len(train_ds) * VAL_RATIO) # 10% for validation\n",
    "train_size = len(train_ds) - val_size # remaining for training\n",
    "\n",
    "# Split the dataset\n",
    "train_ds, val_ds = random_split(\n",
    "    train_ds,\n",
    "    [train_size, val_size],\n",
    "    generator=torch.Generator().manual_seed(SEED)\n",
    ")\n",
    "\n",
    "# Print sizes of the datasets\n",
    "print(f\"Train: {len(train_ds)} | Val: {len(val_ds)}\")"
   ]
  },
  {
   "cell_type": "markdown",
   "id": "29a6565a",
   "metadata": {},
   "source": [
    "#### DataLoader"
   ]
  },
  {
   "cell_type": "code",
   "execution_count": 6,
   "id": "8e0e4512",
   "metadata": {},
   "outputs": [],
   "source": [
    "BATCH_SIZE = 32 # batch size for DataLoader\n",
    "# Create DataLoader for each dataset\n",
    "train_loader = DataLoader(train_ds, batch_size=BATCH_SIZE, shuffle=True, num_workers=0, pin_memory=True)\n",
    "val_loader   = DataLoader(val_ds,   batch_size=BATCH_SIZE, shuffle=False, num_workers=0, pin_memory=True)\n",
    "test_loader  = DataLoader(test_ds,  batch_size=BATCH_SIZE, shuffle=False, num_workers=0, pin_memory=True)"
   ]
  },
  {
   "cell_type": "markdown",
   "id": "c0fa9bf9",
   "metadata": {},
   "source": [
    "#### Display / Inspect"
   ]
  },
  {
   "cell_type": "code",
   "execution_count": 7,
   "id": "1ba4d43d",
   "metadata": {},
   "outputs": [
    {
     "name": "stderr",
     "output_type": "stream",
     "text": [
      "/Users/morse/Documents/morse-workspaces/computer-vision-engineer/.venv/lib/python3.13/site-packages/torch/utils/data/dataloader.py:684: UserWarning: 'pin_memory' argument is set as true but not supported on MPS now, then device pinned memory won't be used.\n",
      "  warnings.warn(warn_msg)\n"
     ]
    },
    {
     "data": {
      "image/png": "[encoded data removed]",
      "text/plain": [
       "<Figure size 1200x200 with 8 Axes>"
      ]
     },
     "metadata": {},
     "output_type": "display_data"
    }
   ],
   "source": [
    "# Function to show a batch of images\n",
    "def show_batch(dl, n=8):\n",
    "    imgs, labels = next(iter(dl))\n",
    "    imgs = imgs[:n]\n",
    "    labels = labels[:n]\n",
    "\n",
    "    plt.figure(figsize=(12, 2))\n",
    "    for i in range(n):\n",
    "        plt.subplot(1, n, i+1)\n",
    "        img = imgs[i].permute(1, 2, 0).cpu().numpy() * np.array(CIFAR100_STD) + np.array(CIFAR100_MEAN)\n",
    "        img = np.clip(img, 0, 1)\n",
    "        plt.imshow(img)\n",
    "        plt.title(int(labels[i]))\n",
    "        plt.axis(\"off\")\n",
    "    plt.show()\n",
    "\n",
    "# Show a batch of training images\n",
    "show_batch(train_loader, n=8)"
   ]
  },
  {
   "cell_type": "markdown",
   "id": "88c07cc6",
   "metadata": {},
   "source": [
    "#### ResNet-18 (Model Architecture)\n",
    "\n",
    "- ปรับให้รองรับ CIFAR-100 (100 classes) ซึ่งมีภาพขนาด 32×32 (ขยายเป็น 224×224 เหมือนกับ AlexNet เพื่อเทรนบนโครงสร้างแบบ ImageNet ได้โดยตรง)\n",
    "\n",
    "- ResNet-18 ประกอบด้วย 18 เลเยอร์ที่มีพารามิเตอร์ (Convolution + Fully Connected) โดยใช้แนวคิดใหม่ที่เรียกว่า Residual Learning เพื่อแก้ปัญหาการฝึกโมเดลลึก ๆ ให้มีประสิทธิภาพ\n",
    "\n",
    "- ใช้ Batch Normalization (BN) หลังทุก convolution layer เพื่อช่วยให้การเรียนรู้มีเสถียรภาพ\n",
    "\n",
    "- ใช้ ReLU เป็น activation function เช่นเดียวกับ AlexNet\n",
    "\n",
    "- โครงสร้างหลักแบ่งเป็น 5 stage (Conv1 + Conv2_x → Conv5_x)\n",
    "โดยแต่ละ stage ประกอบด้วย Residual Block ซึ่งมี “skip connection” หรือทางลัดระหว่าง input และ output ของ block เพื่อให้ gradient ไหลย้อนกลับได้ดีขึ้นในระหว่างการเทรน"
   ]
  },
  {
   "cell_type": "code",
   "execution_count": 8,
   "id": "ae9d76a1",
   "metadata": {},
   "outputs": [],
   "source": [
    "# Define the BasicBlock for ResNet\n",
    "class BasicBlock(nn.Module):\n",
    "    expansion = 1  # expansion factor for output channels\n",
    "\n",
    "    def __init__(self, in_channels, out_channels, stride=1):\n",
    "        super().__init__()\n",
    "\n",
    "        # 2 convolution layers\n",
    "        self.conv1 = nn.Conv2d(in_channels, out_channels, kernel_size=3,\n",
    "                               stride=stride, padding=1, bias=False)\n",
    "        self.bn1 = nn.BatchNorm2d(out_channels)\n",
    "\n",
    "        self.conv2 = nn.Conv2d(out_channels, out_channels, kernel_size=3,\n",
    "                               stride=1, padding=1, bias=False)\n",
    "        self.bn2 = nn.BatchNorm2d(out_channels)\n",
    "\n",
    "        # Shortcut connection (identity or projection)\n",
    "        self.shortcut = nn.Sequential()\n",
    "        if stride != 1 or in_channels != out_channels:\n",
    "\n",
    "            # Projection shortcut to match dimensions\n",
    "            self.shortcut = nn.Sequential(\n",
    "                nn.Conv2d(in_channels, out_channels,\n",
    "                          kernel_size=1, stride=stride, bias=False),\n",
    "                nn.BatchNorm2d(out_channels)\n",
    "            )\n",
    "\n",
    "    # Forward pass\n",
    "    def forward(self, x):\n",
    "        identity = x\n",
    "        out = F.relu(self.bn1(self.conv1(x)))\n",
    "        out = self.bn2(self.conv2(out))\n",
    "        out += self.shortcut(identity)  # residual connection\n",
    "        out = F.relu(out)\n",
    "        return out"
   ]
  },
  {
   "cell_type": "code",
   "execution_count": 10,
   "id": "76cf0665",
   "metadata": {},
   "outputs": [],
   "source": [
    "# Define the ResNet-18 architecture\n",
    "\n",
    "class ResNet18(nn.Module):\n",
    "    def __init__(self, num_classes=100):\n",
    "        super().__init__()\n",
    "        self.in_channels = 64\n",
    "\n",
    "        # Initial Conv Layer: 7x7, 64 filters, stride 2, padding 3\n",
    "        self.conv1 = nn.Conv2d(3, 64, kernel_size=7, stride=2, padding=3, bias=False)\n",
    "        self.bn1 = nn.BatchNorm2d(64)\n",
    "        self.relu = nn.ReLU(inplace=True)\n",
    "\n",
    "        # 3x3 Max Pooling, stride 2, padding 1\n",
    "        self.maxpool = nn.MaxPool2d(kernel_size=3, stride=2, padding=1)\n",
    "\n",
    "        # Residual Blocks (Conv2_x → Conv5_x)\n",
    "        self.layer1 = self._make_layer(BasicBlock, 64, 2, stride=1)   # Conv2_x\n",
    "        self.layer2 = self._make_layer(BasicBlock, 128, 2, stride=2)  # Conv3_x\n",
    "        self.layer3 = self._make_layer(BasicBlock, 256, 2, stride=2)  # Conv4_x\n",
    "        self.layer4 = self._make_layer(BasicBlock, 512, 2, stride=2)  # Conv5_x\n",
    "\n",
    "        # Classification head\n",
    "        self.avgpool = nn.AdaptiveAvgPool2d((1, 1))\n",
    "        self.fc = nn.Linear(512 * BasicBlock.expansion, num_classes)\n",
    "\n",
    "        # Initialize weights\n",
    "        self._initialize_weights()\n",
    "\n",
    "    # Create a layer with multiple blocks\n",
    "    def _make_layer(self, block, out_channels, num_blocks, stride):\n",
    "        layers = []\n",
    "        \n",
    "        # Block early of each stage may have stride > 1 (downsample)\n",
    "        layers.append(block(self.in_channels, out_channels, stride))\n",
    "        self.in_channels = out_channels * block.expansion\n",
    "        \n",
    "        # Block nexts use stride = 1\n",
    "        for _ in range(1, num_blocks):\n",
    "            layers.append(block(self.in_channels, out_channels))\n",
    "        return nn.Sequential(*layers)\n",
    "\n",
    "    # He initialization for weights\n",
    "    def _initialize_weights(self):\n",
    "\n",
    "        # Initialize weights using He initialization\n",
    "        for m in self.modules():\n",
    "            if isinstance(m, nn.Conv2d):\n",
    "                nn.init.kaiming_normal_(m.weight, mode=\"fan_out\", nonlinearity=\"relu\")\n",
    "            elif isinstance(m, nn.BatchNorm2d):\n",
    "                nn.init.constant_(m.weight, 1)\n",
    "                nn.init.constant_(m.bias, 0)\n",
    "            elif isinstance(m, nn.Linear):\n",
    "                nn.init.normal_(m.weight, 0, 0.01)\n",
    "                nn.init.constant_(m.bias, 0)\n",
    "\n",
    "    # Forward pass\n",
    "    def forward(self, x):\n",
    "        # Input: 224×224×3\n",
    "        x = self.conv1(x) # 112x112\n",
    "        x = self.bn1(x) # 112x112\n",
    "        x = self.relu(x) # 112x112\n",
    "        x = self.maxpool(x) # 56x56\n",
    "\n",
    "        # Residual blocks\n",
    "        x = self.layer1(x)  # 56x56\n",
    "        x = self.layer2(x)  # 28x28\n",
    "        x = self.layer3(x)  # 14x14\n",
    "        x = self.layer4(x)  # 7x7\n",
    "\n",
    "        # Classification head\n",
    "        x = self.avgpool(x) # 1x1\n",
    "        x = torch.flatten(x, 1) # flatten\n",
    "        x = self.fc(x)\n",
    "        return x"
   ]
  },
  {
   "cell_type": "code",
   "execution_count": 11,
   "id": "9311fbfa",
   "metadata": {},
   "outputs": [
    {
     "data": {
      "text/plain": [
       "(11227812,\n",
       " ResNet18(\n",
       "   (conv1): Conv2d(3, 64, kernel_size=(7, 7), stride=(2, 2), padding=(3, 3), bias=False)\n",
       "   (bn1): BatchNorm2d(64, eps=1e-05, momentum=0.1, affine=True, track_running_stats=True)\n",
       "   (relu): ReLU(inplace=True)\n",
       "   (maxpool): MaxPool2d(kernel_size=3, stride=2, padding=1, dilation=1, ceil_mode=False)\n",
       "   (layer1): Sequential(\n",
       "     (0): BasicBlock(\n",
       "       (conv1): Conv2d(64, 64, kernel_size=(3, 3), stride=(1, 1), padding=(1, 1), bias=False)\n",
       "       (bn1): BatchNorm2d(64, eps=1e-05, momentum=0.1, affine=True, track_running_stats=True)\n",
       "       (conv2): Conv2d(64, 64, kernel_size=(3, 3), stride=(1, 1), padding=(1, 1), bias=False)\n",
       "       (bn2): BatchNorm2d(64, eps=1e-05, momentum=0.1, affine=True, track_running_stats=True)\n",
       "       (shortcut): Sequential()\n",
       "     )\n",
       "     (1): BasicBlock(\n",
       "       (conv1): Conv2d(64, 64, kernel_size=(3, 3), stride=(1, 1), padding=(1, 1), bias=False)\n",
       "       (bn1): BatchNorm2d(64, eps=1e-05, momentum=0.1, affine=True, track_running_stats=True)\n",
       "       (conv2): Conv2d(64, 64, kernel_size=(3, 3), stride=(1, 1), padding=(1, 1), bias=False)\n",
       "       (bn2): BatchNorm2d(64, eps=1e-05, momentum=0.1, affine=True, track_running_stats=True)\n",
       "       (shortcut): Sequential()\n",
       "     )\n",
       "   )\n",
       "   (layer2): Sequential(\n",
       "     (0): BasicBlock(\n",
       "       (conv1): Conv2d(64, 128, kernel_size=(3, 3), stride=(2, 2), padding=(1, 1), bias=False)\n",
       "       (bn1): BatchNorm2d(128, eps=1e-05, momentum=0.1, affine=True, track_running_stats=True)\n",
       "       (conv2): Conv2d(128, 128, kernel_size=(3, 3), stride=(1, 1), padding=(1, 1), bias=False)\n",
       "       (bn2): BatchNorm2d(128, eps=1e-05, momentum=0.1, affine=True, track_running_stats=True)\n",
       "       (shortcut): Sequential(\n",
       "         (0): Conv2d(64, 128, kernel_size=(1, 1), stride=(2, 2), bias=False)\n",
       "         (1): BatchNorm2d(128, eps=1e-05, momentum=0.1, affine=True, track_running_stats=True)\n",
       "       )\n",
       "     )\n",
       "     (1): BasicBlock(\n",
       "       (conv1): Conv2d(128, 128, kernel_size=(3, 3), stride=(1, 1), padding=(1, 1), bias=False)\n",
       "       (bn1): BatchNorm2d(128, eps=1e-05, momentum=0.1, affine=True, track_running_stats=True)\n",
       "       (conv2): Conv2d(128, 128, kernel_size=(3, 3), stride=(1, 1), padding=(1, 1), bias=False)\n",
       "       (bn2): BatchNorm2d(128, eps=1e-05, momentum=0.1, affine=True, track_running_stats=True)\n",
       "       (shortcut): Sequential()\n",
       "     )\n",
       "   )\n",
       "   (layer3): Sequential(\n",
       "     (0): BasicBlock(\n",
       "       (conv1): Conv2d(128, 256, kernel_size=(3, 3), stride=(2, 2), padding=(1, 1), bias=False)\n",
       "       (bn1): BatchNorm2d(256, eps=1e-05, momentum=0.1, affine=True, track_running_stats=True)\n",
       "       (conv2): Conv2d(256, 256, kernel_size=(3, 3), stride=(1, 1), padding=(1, 1), bias=False)\n",
       "       (bn2): BatchNorm2d(256, eps=1e-05, momentum=0.1, affine=True, track_running_stats=True)\n",
       "       (shortcut): Sequential(\n",
       "         (0): Conv2d(128, 256, kernel_size=(1, 1), stride=(2, 2), bias=False)\n",
       "         (1): BatchNorm2d(256, eps=1e-05, momentum=0.1, affine=True, track_running_stats=True)\n",
       "       )\n",
       "     )\n",
       "     (1): BasicBlock(\n",
       "       (conv1): Conv2d(256, 256, kernel_size=(3, 3), stride=(1, 1), padding=(1, 1), bias=False)\n",
       "       (bn1): BatchNorm2d(256, eps=1e-05, momentum=0.1, affine=True, track_running_stats=True)\n",
       "       (conv2): Conv2d(256, 256, kernel_size=(3, 3), stride=(1, 1), padding=(1, 1), bias=False)\n",
       "       (bn2): BatchNorm2d(256, eps=1e-05, momentum=0.1, affine=True, track_running_stats=True)\n",
       "       (shortcut): Sequential()\n",
       "     )\n",
       "   )\n",
       "   (layer4): Sequential(\n",
       "     (0): BasicBlock(\n",
       "       (conv1): Conv2d(256, 512, kernel_size=(3, 3), stride=(2, 2), padding=(1, 1), bias=False)\n",
       "       (bn1): BatchNorm2d(512, eps=1e-05, momentum=0.1, affine=True, track_running_stats=True)\n",
       "       (conv2): Conv2d(512, 512, kernel_size=(3, 3), stride=(1, 1), padding=(1, 1), bias=False)\n",
       "       (bn2): BatchNorm2d(512, eps=1e-05, momentum=0.1, affine=True, track_running_stats=True)\n",
       "       (shortcut): Sequential(\n",
       "         (0): Conv2d(256, 512, kernel_size=(1, 1), stride=(2, 2), bias=False)\n",
       "         (1): BatchNorm2d(512, eps=1e-05, momentum=0.1, affine=True, track_running_stats=True)\n",
       "       )\n",
       "     )\n",
       "     (1): BasicBlock(\n",
       "       (conv1): Conv2d(512, 512, kernel_size=(3, 3), stride=(1, 1), padding=(1, 1), bias=False)\n",
       "       (bn1): BatchNorm2d(512, eps=1e-05, momentum=0.1, affine=True, track_running_stats=True)\n",
       "       (conv2): Conv2d(512, 512, kernel_size=(3, 3), stride=(1, 1), padding=(1, 1), bias=False)\n",
       "       (bn2): BatchNorm2d(512, eps=1e-05, momentum=0.1, affine=True, track_running_stats=True)\n",
       "       (shortcut): Sequential()\n",
       "     )\n",
       "   )\n",
       "   (avgpool): AdaptiveAvgPool2d(output_size=(1, 1))\n",
       "   (fc): Linear(in_features=512, out_features=100, bias=True)\n",
       " ))"
      ]
     },
     "execution_count": 11,
     "metadata": {},
     "output_type": "execute_result"
    }
   ],
   "source": [
    "num_classes = 100 # CIFAR-100 has 100 classes\n",
    "\n",
    "# Determine if LRN should be used based on device capabilities\n",
    "USE_LRN = not torch.backends.mps.is_available() \n",
    "\n",
    "# Create the model and move it to the device (MPS / CUDA / CPU)\n",
    "model = ResNet18(num_classes=num_classes).to(DEVICE)\n",
    "\n",
    "# Show total number of parameters in the model\n",
    "sum(p.numel() for p in model.parameters()), model"
   ]
  },
  {
   "cell_type": "code",
   "execution_count": 12,
   "id": "4c8926e9",
   "metadata": {},
   "outputs": [],
   "source": [
    "# Enable TF32 for MPS (Apple Silicon) for better performance\n",
    "torch.backends.mps.allow_tf32 = True"
   ]
  },
  {
   "cell_type": "markdown",
   "id": "4ffab364",
   "metadata": {},
   "source": [
    "### Loss, Optimizer, Metrics"
   ]
  },
  {
   "cell_type": "code",
   "execution_count": null,
   "id": "10700115",
   "metadata": {},
   "outputs": [],
   "source": [
    "# Hyperparameters\n",
    "LR = 0.1 # learning rate\n",
    "MOMENTUM = 0.9 # momentum for SGD\n",
    "EPOCHS = 20 # number of training epochs\n",
    "WEIGHT_DECAY = 5e-4  # L2 regularization\n",
    "    \n",
    "# Loss and optimizer\n",
    "criterion = nn.CrossEntropyLoss()  # Suitable for 100-class classification\n",
    "optimizer = torch.optim.SGD(\n",
    "    model.parameters(), \n",
    "    lr=LR, \n",
    "    momentum=MOMENTUM,\n",
    "    weight_decay=WEIGHT_DECAY\n",
    ")\n",
    "\n",
    "# Learning rate scheduler - StepLR\n",
    "scheduler = torch.optim.lr_scheduler.StepLR(\n",
    "    optimizer,\n",
    "    step_size=30, # reduce LR every 30 epochs\n",
    "    gamma=0.1 # multiply by 0.1\n",
    ")\n",
    "\n",
    "# Metrics\n",
    "acc_metric_val = MulticlassAccuracy(num_classes=num_classes).to(DEVICE)\n",
    "acc_metric_test = MulticlassAccuracy(num_classes=num_classes).to(DEVICE)"
   ]
  },
  {
   "cell_type": "markdown",
   "id": "5a44bf40",
   "metadata": {},
   "source": [
    "### Train / Validate Loop (with early stopping)"
   ]
  },
  {
   "cell_type": "code",
   "execution_count": 14,
   "id": "1d681034",
   "metadata": {},
   "outputs": [],
   "source": [
    "# Training function for one epoch\n",
    "\n",
    "def train_one_epoch(model, loader, optimizer, criterion):\n",
    "    model.train()\n",
    "    running_loss, correct, total = 0.0, 0, 0\n",
    "\n",
    "    for x, y in loader:\n",
    "        x, y = x.to(DEVICE), y.to(DEVICE)\n",
    "\n",
    "        # Forward pass\n",
    "        logits = model(x)\n",
    "        loss = criterion(logits, y)\n",
    "\n",
    "        # Backward pass\n",
    "        optimizer.zero_grad()\n",
    "        loss.backward()\n",
    "        optimizer.step()\n",
    "\n",
    "        # Metrics\n",
    "        running_loss += loss.item() * x.size(0)\n",
    "        preds = logits.argmax(dim=1)\n",
    "        correct += (preds == y).sum().item()\n",
    "        total += y.size(0)\n",
    "\n",
    "    return running_loss / total, correct / total"
   ]
  },
  {
   "cell_type": "code",
   "execution_count": 15,
   "id": "d0e5a87f",
   "metadata": {},
   "outputs": [],
   "source": [
    "# Evaluation function\n",
    "\n",
    "def evaluate(model, loader, criterion, metric):\n",
    "    model.eval()\n",
    "    metric.reset()\n",
    "    running_loss, total = 0.0, 0\n",
    "    with torch.no_grad():\n",
    "        for x,y in loader:\n",
    "            x,y = x.to(DEVICE), y.to(DEVICE)\n",
    "            logits = model(x)\n",
    "            loss = criterion(logits, y)\n",
    "            running_loss += loss.item() * x.size(0)\n",
    "            total += y.size(0)\n",
    "            metric.update(logits, y)\n",
    "    return running_loss/total, metric.compute().item()"
   ]
  },
  {
   "cell_type": "code",
   "execution_count": null,
   "id": "ef074fb4",
   "metadata": {},
   "outputs": [],
   "source": [
    "# Training / Validation loop with early stopping\n",
    "\n",
    "best_val_acc, best_state = 0.0, None\n",
    "history = {\"train_loss\": [], \"train_acc\": [], \"val_loss\": [], \"val_acc\": []}\n",
    "\n",
    "for epoch in range(1, EPOCHS + 1):\n",
    "    start_time = time.time()\n",
    "\n",
    "    # Train\n",
    "    tr_loss, tr_acc = train_one_epoch(model, train_loader, optimizer, criterion)\n",
    "\n",
    "    # Validation\n",
    "    val_loss, val_acc = evaluate(model, val_loader, criterion, acc_metric_val)\n",
    "\n",
    "    # Adjust learning rate\n",
    "    scheduler.step()\n",
    "\n",
    "    # Record history\n",
    "    history[\"train_loss\"].append(tr_loss)\n",
    "    history[\"train_acc\"].append(tr_acc)\n",
    "    history[\"val_loss\"].append(val_loss)\n",
    "    history[\"val_acc\"].append(val_acc)\n",
    "\n",
    "    # Save best model (early stopping)\n",
    "    if val_acc > best_val_acc:\n",
    "        best_val_acc = val_acc\n",
    "        best_state = {k: v.cpu().clone() for k, v in model.state_dict().items()}\n",
    "\n",
    "    elapsed = time.time() - start_time\n",
    "    print(f\"Epoch {epoch:02d} | \"\n",
    "          f\"train loss {tr_loss:.4f} acc {tr_acc:.4f} | \"\n",
    "          f\"val loss {val_loss:.4f} acc {val_acc:.4f} | \"\n",
    "          f\"time {elapsed:.1f}s\")"
   ]
  },
  {
   "cell_type": "code",
   "execution_count": null,
   "id": "ef454b48",
   "metadata": {},
   "outputs": [],
   "source": [
    "# Load the best model state (early stopping)\n",
    "if best_state is not None:\n",
    "    model.load_state_dict(best_state)\n",
    "    model.to(DEVICE)"
   ]
  },
  {
   "cell_type": "markdown",
   "id": "337a2888",
   "metadata": {},
   "source": [
    "### Plot Accuracy & Loss per Epoch"
   ]
  },
  {
   "cell_type": "code",
   "execution_count": null,
   "id": "2e96b27f",
   "metadata": {},
   "outputs": [],
   "source": [
    "epochs = range(1, EPOCHS + 1)\n",
    "\n",
    "plt.figure(figsize=(12, 5))\n",
    "\n",
    "# Plot Training & Validation Loss\n",
    "plt.subplot(1, 2, 1)\n",
    "plt.plot(epochs, history[\"train_loss\"], label=\"Train Loss\")\n",
    "plt.plot(epochs, history[\"val_loss\"], label=\"Val Loss\")\n",
    "plt.xlabel(\"Epoch\")\n",
    "plt.ylabel(\"Loss\")\n",
    "plt.title(\"Training and Validation Loss\")\n",
    "plt.legend()\n",
    "plt.grid(True)\n",
    "\n",
    "# Plot Training & Validation Accuracy\n",
    "plt.subplot(1, 2, 2)\n",
    "plt.plot(epochs, history[\"train_acc\"], label=\"Train Accuracy\")\n",
    "plt.plot(epochs, history[\"val_acc\"], label=\"Val Accuracy\")\n",
    "plt.xlabel(\"Epoch\")\n",
    "plt.ylabel(\"Accuracy\")\n",
    "plt.title(\"Training and Validation Accuracy\")\n",
    "plt.legend()\n",
    "plt.grid(True)\n",
    "\n",
    "plt.tight_layout()\n",
    "plt.show()"
   ]
  },
  {
   "cell_type": "markdown",
   "id": "ab760dc0",
   "metadata": {},
   "source": [
    "### Test & Evaluate (accuracy, confusion matrix, per-class report)"
   ]
  },
  {
   "cell_type": "code",
   "execution_count": null,
   "id": "a9071e4d",
   "metadata": {},
   "outputs": [],
   "source": [
    "# Evaluate on test set\n",
    "test_loss, test_acc = evaluate(model, test_loader, criterion, acc_metric_test)\n",
    "print(f\"TEST | loss {test_loss:.4f} | acc {test_acc:.4f}\")"
   ]
  },
  {
   "cell_type": "code",
   "execution_count": null,
   "id": "37fd37f5",
   "metadata": {},
   "outputs": [],
   "source": [
    "# Confusion Matrix\n",
    "cm_metric = MulticlassConfusionMatrix(num_classes=num_classes).to(DEVICE)\n",
    "model.eval()\n",
    "cm_metric.reset()\n",
    "\n",
    "# Compute confusion matrix\n",
    "with torch.no_grad():\n",
    "    for x,y in test_loader:\n",
    "        x,y = x.to(DEVICE), y.to(DEVICE)\n",
    "        logits = model(x)\n",
    "        cm_metric.update(logits, y)\n",
    "cm = cm_metric.compute().cpu().numpy()"
   ]
  },
  {
   "cell_type": "code",
   "execution_count": null,
   "id": "6f671243",
   "metadata": {},
   "outputs": [],
   "source": [
    "# Plot confusion matrix\n",
    "import matplotlib.pyplot as plt\n",
    "plt.figure(figsize=(6,6))\n",
    "plt.imshow(cm, interpolation='nearest', cmap='Blues')\n",
    "plt.title('Confusion Matrix (MNIST)')\n",
    "plt.colorbar()\n",
    "tick_marks = np.arange(num_classes)\n",
    "plt.xticks(tick_marks, tick_marks); plt.yticks(tick_marks, tick_marks)\n",
    "plt.xlabel('Predicted'); plt.ylabel('True')\n",
    "plt.tight_layout()\n",
    "plt.show()"
   ]
  },
  {
   "cell_type": "code",
   "execution_count": null,
   "id": "3d740708",
   "metadata": {},
   "outputs": [],
   "source": [
    "# Save the model checkpoint\n",
    "Path(\"checkpoints\").mkdir(exist_ok=True)\n",
    "torch.save(model.state_dict(), \"checkpoints/resnet_18_cifar100.pt\")"
   ]
  },
  {
   "cell_type": "code",
   "execution_count": null,
   "id": "8a8c83f2",
   "metadata": {},
   "outputs": [],
   "source": [
    "# Load the model checkpoint\n",
    "model_pretrained = ResNet18().to(DEVICE)\n",
    "model_pretrained.load_state_dict(torch.load(\"checkpoints/resnet_18_cifar100.pt\", map_location=DEVICE))\n",
    "model_pretrained.eval()"
   ]
  },
  {
   "cell_type": "markdown",
   "id": "bb76e95c",
   "metadata": {},
   "source": []
  }
 ],
 "metadata": {
  "kernelspec": {
   "display_name": ".venv",
   "language": "python",
   "name": "python3"
  },
  "language_info": {
   "codemirror_mode": {
    "name": "ipython",
    "version": 3
   },
   "file_extension": ".py",
   "mimetype": "text/x-python",
   "name": "python",
   "nbconvert_exporter": "python",
   "pygments_lexer": "ipython3",
   "version": "3.13.7"
  }
 },
 "nbformat": 4,
 "nbformat_minor": 5
}
