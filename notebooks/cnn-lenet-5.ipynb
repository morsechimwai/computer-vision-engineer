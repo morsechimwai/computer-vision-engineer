{
 "cells": [
  {
   "cell_type": "markdown",
   "id": "8253aeeb",
   "metadata": {},
   "source": [
    "## LeNet-5\n",
    "📄 Yann LeCun, Léon Bottou, Yoshua Bengio, Patrick Haffner (1998). Gradient-based learning applied to document recognition. [Link](https://ieeexplore.ieee.org/document/726791) | [Link 2](http://vision.stanford.edu/cs598_spring07/papers/Lecun98.pdf)"
   ]
  },
  {
   "cell_type": "markdown",
   "id": "7bd1eca3",
   "metadata": {},
   "source": [
    "ในงานของ Yann LeCun, Léon Bottou, Yoshua Bengio และ Patrick Haffner (1998) เรื่อง “Gradient-based Learning Applied to Document Recognition” — ซึ่งเป็นงานคลาสสิกที่เสนอ LeNet-5 — ผู้เขียนแสดงให้เห็นว่า Convolutional Neural Network (CNN) สามารถเรียนรู้การจดจำลักษณะภาพได้โดยตรงจากพิกเซล โดยไม่ต้องพึ่งการออกแบบ feature แบบมือ\n",
    "\n",
    "สถาปัตยกรรม LeNet-5 ซึ่งประกอบด้วย convolution, subsampling (pooling), และ fully connected layers\n",
    "\n",
    "- ใช้ backpropagation สำหรับการเรียนรู้แบบ end-to-end\n",
    "- ทดสอบกับปัญหา การอ่านตัวเลขลายมือ (MNIST dataset) และทำผลงานได้ยอดเยี่ยมกว่าวิธีการเดิม\n",
    "\n",
    "งานนี้เป็นรากฐานของ Deep Learning ด้าน Computer Vision ที่แสดงให้เห็นว่า “การเรียนรู้เชิงลึกแบบ gradient-based” สามารถเข้าใจภาพและลักษณะเชิงโครงสร้างได้โดยไม่ต้องออกแบบ feature เอง — วางเสาเอกให้กับ AlexNet และ CNN รุ่นหลังทั้งหมด."
   ]
  },
  {
   "cell_type": "markdown",
   "id": "d98a9c5d",
   "metadata": {},
   "source": [
    "### LeNet-5 AlexNet Architecture"
   ]
  },
  {
   "cell_type": "markdown",
   "id": "4ddbc8f0",
   "metadata": {},
   "source": [
    "![LeNet-5 Architecture](../images/notebooks/lenet-5.png)"
   ]
  },
  {
   "cell_type": "markdown",
   "id": "76e66502",
   "metadata": {},
   "source": [
    "Input Layer\n",
    "- ขนาด 32×32 พิกเซล (MNIST จริง ๆ มี 28×28 แต่ padding ขยายเป็น 32×32)\n",
    "\n",
    "C1: Convolution Layer\n",
    "- ฟิลเตอร์: 6 ตัว\n",
    "- Kernel size: 5×5\n",
    "- Output: 28×28×6\n",
    "\n",
    "S2: Subsampling (Average Pooling)\n",
    "- ขนาด 2×2\n",
    "- Output: 14×14×6\n",
    "\n",
    "C3: Convolution Layer\n",
    "- ฟิลเตอร์: 16 ตัว (เชื่อมกับ subset ของ feature maps จาก S2)\n",
    "- Kernel size: 5×5\n",
    "- Output: 10×10×16\n",
    "\n",
    "S4: Subsampling (Average Pooling)\n",
    "- ขนาด 2×2\n",
    "- Output: 5×5×16\n",
    "\n",
    "C5: Convolution Layer (Fully Connected)\n",
    "- ฟิลเตอร์: 120 ตัว\n",
    "- Kernel size: 5×5 (ครอบทั้ง feature map)\n",
    "- Output: 1×1×120\n",
    "\n",
    "F6: Fully Connected Layer\n",
    "- จำนวน neuron: 84\n",
    "- Output Layer\n",
    "- ใช้ Softmax (หรือ RBF เดิม ๆ) เพื่อจำแนกตัวเลข 0–9"
   ]
  },
  {
   "cell_type": "markdown",
   "id": "2293f67d",
   "metadata": {},
   "source": [
    "### Install Libraries\n",
    "- torch\n",
    "- - PyTorch หลัก ใช้สร้างโมเดล Deep Learning, ทำคำนวณแบบ tensor (คล้าย NumPy แต่ optimized บน GPU), training neural network\n",
    "\n",
    "- torchvision\n",
    "- - เป็น extension สำหรับงาน Computer Vision เช่น โหลด datasets (MNIST, CIFAR, ImageNet), มี transforms (resize, normalize) และโมดูลโมเดลสำเร็จรูป (ResNet, VGG ฯลฯ)\n",
    " \n",
    "- torchmetrics \n",
    "- - เอาไว้ใช้คำนวณ metrics สำหรับประเมินโมเดล เช่น Accuracy, Precision, Recall, F1-score โดยออกแบบมาให้ใช้งานง่ายและทำงานร่วมกับ PyTorch Lightning หรือ training loop ปกติ\n",
    "  \n",
    "- matplotlib\n",
    "- - library สำหรับ การ plot กราฟและ visualization เช่น แสดงผลการ training loss, accuracy per epoch, ดูรูปภาพใน dataset ฯลฯ\n",
    "\n",
    "- numpy\n",
    "- - library สำหรับการคำนวณเชิงตัวเลข (Numerical Computation) ใช้สำหรับจัดการ array และ matrix (ข้อมูลหลายมิติ) ได้อย่างมีประสิทธิภาพ และรองรับการคำนวณทางคณิตศาสตร์ต่าง ๆ"
   ]
  },
  {
   "cell_type": "markdown",
   "id": "80cf463c",
   "metadata": {},
   "source": [
    "### Set Up Environments"
   ]
  },
  {
   "cell_type": "code",
   "execution_count": 1,
   "id": "f0e9dac0",
   "metadata": {},
   "outputs": [
    {
     "name": "stdout",
     "output_type": "stream",
     "text": [
      "Using device: mps\n"
     ]
    }
   ],
   "source": [
    "import os, random, math, time\n",
    "import torch\n",
    "import torch.nn as nn\n",
    "import torch.nn.functional as F\n",
    "from torch.utils.data import DataLoader, random_split\n",
    "from torchvision import datasets, transforms\n",
    "from torchmetrics.classification import MulticlassAccuracy, MulticlassConfusionMatrix\n",
    "import numpy as np\n",
    "from pathlib import Path\n",
    "\n",
    "# fix random seed for reproducibility\n",
    "SEED = 42\n",
    "\n",
    "# Set random seeds for reproducibility\n",
    "random.seed(SEED) # Python random module\n",
    "np.random.seed(SEED) # numpy\n",
    "torch.manual_seed(SEED) # torch\n",
    "torch.cuda.manual_seed_all(SEED) # torch cuda\n",
    "\n",
    "# For reproducibility when using CUDA\n",
    "torch.backends.cudnn.deterministic = True\n",
    "torch.backends.cudnn.benchmark = False\n",
    "\n",
    "# Device configuration\n",
    "if torch.backends.mps.is_available():\n",
    "    DEVICE = torch.device(\"mps\") # for Apple Silicon \n",
    "elif torch.cuda.is_available():\n",
    "    DEVICE = torch.device(\"cuda\") # for NVIDIA GPU\n",
    "else:\n",
    "    DEVICE = torch.device(\"cpu\") # for CPU\n",
    "\n",
    "print(\"Using device:\", DEVICE)"
   ]
  },
  {
   "cell_type": "markdown",
   "id": "6fbd9665",
   "metadata": {},
   "source": [
    "### Transforms & Datasets \n",
    "- Download / Load Datasets (with transforms)\n",
    "- Clean Datasets\n",
    "- Preprocess (Split train/val)\n",
    "- Display / Inspect"
   ]
  },
  {
   "cell_type": "code",
   "execution_count": 2,
   "id": "ebf76bd9",
   "metadata": {},
   "outputs": [],
   "source": [
    "# Mean and std for normalizing MNIST dataset\n",
    "MNIST_MEAN, MNIST_STD = 0.1307, 0.3081\n",
    "\n",
    "# Base transforms (no augmentation) for validation and test sets\n",
    "base_transforms = transforms.Compose([\n",
    "    transforms.Pad(2), # to make 28x28 images into 32x32\n",
    "    transforms.ToTensor(), # convert to tensor\n",
    "    transforms.Normalize((MNIST_MEAN,), (MNIST_STD,)) # normalize with mean and std\n",
    "])\n",
    "\n",
    "# Augmentation for training set\n",
    "train_transforms = transforms.Compose([\n",
    "    transforms.Pad(2),\n",
    "    transforms.RandomAffine(degrees=10, translate=(0.05, 0.05), scale=(0.95, 1.05)),\n",
    "    transforms.ToTensor(),\n",
    "    transforms.Normalize((MNIST_MEAN,), (MNIST_STD,))\n",
    "])"
   ]
  },
  {
   "cell_type": "markdown",
   "id": "07ee22de",
   "metadata": {},
   "source": [
    "#### Download / Load Datasets"
   ]
  },
  {
   "cell_type": "code",
   "execution_count": 3,
   "id": "888d9d16",
   "metadata": {},
   "outputs": [
    {
     "name": "stderr",
     "output_type": "stream",
     "text": [
      "100.0%\n",
      "100.0%\n",
      "100.0%\n",
      "100.0%\n"
     ]
    },
    {
     "data": {
      "text/plain": [
       "(60000, 10000)"
      ]
     },
     "execution_count": 3,
     "metadata": {},
     "output_type": "execute_result"
    }
   ],
   "source": [
    "DATA_DIR = \"../data\" # directory to store datasets\n",
    "\n",
    "# Download / Load training and test datasets\n",
    "train_ds_raw = datasets.MNIST(root=DATA_DIR, train=True, download=True, transform=train_transforms)\n",
    "test_ds  = datasets.MNIST(root=DATA_DIR, train=False, download=True, transform=base_transforms)\n",
    "\n",
    "# Check dataset sizes\n",
    "len(train_ds_raw), len(test_ds)"
   ]
  },
  {
   "cell_type": "markdown",
   "id": "c9e443cd",
   "metadata": {},
   "source": [
    "#### Clean Datasets"
   ]
  },
  {
   "cell_type": "code",
   "execution_count": 4,
   "id": "bf388969",
   "metadata": {},
   "outputs": [],
   "source": [
    "# A wrapper dataset to handle bad samples\n",
    "class SafeDataset(torch.utils.data.Dataset):\n",
    "    def __init__(self, ds):\n",
    "        self.ds = ds\n",
    "        self.bad_indices = []\n",
    "\n",
    "    def __len__(self): return len(self.ds)\n",
    "\n",
    "    def __getitem__(self, idx):\n",
    "        try:\n",
    "            return self.ds[idx]\n",
    "        except Exception as e:\n",
    "            self.bad_indices.append(idx)\n",
    "            # If a bad sample is encountered, return a random good sample\n",
    "            ridx = random.randint(0, len(self.ds)-1)\n",
    "            return self.ds[ridx]\n",
    "\n",
    "train_ds = SafeDataset(train_ds_raw)"
   ]
  },
  {
   "cell_type": "markdown",
   "id": "d9c2fcb0",
   "metadata": {},
   "source": [
    "#### Split train/val"
   ]
  },
  {
   "cell_type": "code",
   "execution_count": 5,
   "id": "ce055a2e",
   "metadata": {},
   "outputs": [
    {
     "data": {
      "text/plain": [
       "(54000, 6000)"
      ]
     },
     "execution_count": 5,
     "metadata": {},
     "output_type": "execute_result"
    }
   ],
   "source": [
    "# Split training dataset into train and validation set\n",
    "VAL_RATIO = 0.1 # 10% for validation\n",
    "val_size = int(len(train_ds) * VAL_RATIO) # validation set size\n",
    "train_size = len(train_ds) - val_size # training set size\n",
    "\n",
    "# Ensure the split is reproducible\n",
    "train_ds, val_ds = random_split(train_ds, [train_size, val_size], generator=torch.Generator().manual_seed(SEED))\n",
    "len(train_ds), len(val_ds)\n"
   ]
  },
  {
   "cell_type": "markdown",
   "id": "a1a8eefd",
   "metadata": {},
   "source": [
    "#### DataLoader"
   ]
  },
  {
   "cell_type": "code",
   "execution_count": 6,
   "id": "0ccefd1e",
   "metadata": {},
   "outputs": [],
   "source": [
    "\n",
    "BATCH_SIZE = 128\n",
    "\n",
    "# Note: num_workers > 0 may not work on Windows or MacOS\n",
    "train_loader = DataLoader(train_ds, batch_size=BATCH_SIZE, shuffle=True, num_workers=0, pin_memory=True)\n",
    "val_loader   = DataLoader(val_ds, batch_size=BATCH_SIZE, shuffle=False, num_workers=0, pin_memory=True)\n",
    "test_loader  = DataLoader(test_ds, batch_size=BATCH_SIZE, shuffle=False, num_workers=0, pin_memory=True)"
   ]
  },
  {
   "cell_type": "markdown",
   "id": "1d1d6f2e",
   "metadata": {},
   "source": [
    "#### Display / Inspect"
   ]
  },
  {
   "cell_type": "code",
   "execution_count": 7,
   "id": "c1f11513",
   "metadata": {},
   "outputs": [
    {
     "name": "stderr",
     "output_type": "stream",
     "text": [
      "/Users/morse/Documents/morse-workspaces/computer-vision-engineer/.venv/lib/python3.13/site-packages/torch/utils/data/dataloader.py:684: UserWarning: 'pin_memory' argument is set as true but not supported on MPS now, then device pinned memory won't be used.\n",
      "  warnings.warn(warn_msg)\n"
     ]
    },
    {
     "data": {
      "image/png": "[encoded data removed]",
      "text/plain": [
       "<Figure size 1200x200 with 8 Axes>"
      ]
     },
     "metadata": {},
     "output_type": "display_data"
    }
   ],
   "source": [
    "import matplotlib.pyplot as plt\n",
    "\n",
    "# Function to display a batch of images\n",
    "def show_batch(dl, n=8):\n",
    "    imgs, labels = next(iter(dl)) # get a batch of images and labels\n",
    "    imgs = imgs[:n].squeeze(1)  # (n, 32, 32) \n",
    "    labels = labels[:n] \n",
    "    plt.figure(figsize=(12,2))\n",
    "    \n",
    "    # Display images in a row\n",
    "    for i in range(n):\n",
    "        plt.subplot(1,n,i+1)\n",
    "        plt.imshow(imgs[i].cpu().numpy(), cmap='gray')\n",
    "        plt.title(int(labels[i]))\n",
    "        plt.axis('off')\n",
    "    plt.show()\n",
    "\n",
    "show_batch(train_loader, n=8)"
   ]
  },
  {
   "cell_type": "markdown",
   "id": "b0cfee38",
   "metadata": {},
   "source": [
    "### LeNet-5 (Tanh activations + Average Pooling, conv map sizes)"
   ]
  },
  {
   "cell_type": "code",
   "execution_count": 8,
   "id": "2034136c",
   "metadata": {},
   "outputs": [],
   "source": [
    "# LeNet-5 model definition\n",
    "# Original style: Tanh activations + Average Pooling, conv map sizes\n",
    "\n",
    "class LeNet5(nn.Module):\n",
    "\n",
    "    # Define the layers\n",
    "    def __init__(self, num_classes=10):\n",
    "        super().__init__()\n",
    "        self.c1 = nn.Conv2d(1, 6, kernel_size=5, stride=1) # 32->28\n",
    "        self.s2 = nn.AvgPool2d(kernel_size=2, stride=2) # 28->14\n",
    "        self.c3 = nn.Conv2d(6, 16, kernel_size=5, stride=1) # 14->10\n",
    "        self.s4 = nn.AvgPool2d(kernel_size=2, stride=2) # 10->5\n",
    "        self.c5 = nn.Conv2d(16, 120, kernel_size=5, stride=1) # 5->1\n",
    "        self.f6 = nn.Linear(120, 84) # 120->84\n",
    "        self.out = nn.Linear(84, num_classes) # 84->num_classes\n",
    "\n",
    "    # Define the forward pass\n",
    "    def forward(self, x):\n",
    "        x = torch.tanh(self.c1(x)) # (N,1,32,32) -> (N,6,28,28)\n",
    "        x = self.s2(x) # (N,6,28,28) -> (N,6,14,14)\n",
    "        x = torch.tanh(self.c3(x)) # (N,6,14,14) -> (N,16,10,10)\n",
    "        x = self.s4(x) # (N,16,10,10) -> (N,16,5,5)\n",
    "        x = torch.tanh(self.c5(x)) # (N,16,5,5) -> (N,120,1,1)\n",
    "        x = x.view(x.size(0), -1) # flatten to (N,120)\n",
    "        x = torch.tanh(self.f6(x)) # (N,120) -> (N,84)\n",
    "        x = self.out(x) # (N,84) -> (N,num_classes)\n",
    "        return x"
   ]
  },
  {
   "cell_type": "code",
   "execution_count": 9,
   "id": "797f49de",
   "metadata": {},
   "outputs": [
    {
     "data": {
      "text/plain": [
       "(61706,\n",
       " LeNet5(\n",
       "   (c1): Conv2d(1, 6, kernel_size=(5, 5), stride=(1, 1))\n",
       "   (s2): AvgPool2d(kernel_size=2, stride=2, padding=0)\n",
       "   (c3): Conv2d(6, 16, kernel_size=(5, 5), stride=(1, 1))\n",
       "   (s4): AvgPool2d(kernel_size=2, stride=2, padding=0)\n",
       "   (c5): Conv2d(16, 120, kernel_size=(5, 5), stride=(1, 1))\n",
       "   (f6): Linear(in_features=120, out_features=84, bias=True)\n",
       "   (out): Linear(in_features=84, out_features=10, bias=True)\n",
       " ))"
      ]
     },
     "execution_count": 9,
     "metadata": {},
     "output_type": "execute_result"
    }
   ],
   "source": [
    "# Instantiate the model and move to device.\n",
    "model = LeNet5().to(DEVICE)\n",
    "sum(p.numel() for p in model.parameters()), model"
   ]
  },
  {
   "cell_type": "markdown",
   "id": "d11dd1a2",
   "metadata": {},
   "source": [
    "### Loss, Optimizer, Metrics"
   ]
  },
  {
   "cell_type": "code",
   "execution_count": 10,
   "id": "f781f682",
   "metadata": {},
   "outputs": [],
   "source": [
    "# Hyperparameters\n",
    "LR = 1e-3 # learning rate\n",
    "EPOCHS = 30 # number of epochs\n",
    "WEIGHT_DECAY = 0.0 # weight decay (L2 regularization)\n",
    "\n",
    "# Loss and optimizer\n",
    "criterion = nn.CrossEntropyLoss() # combines nn.LogSoftmax() and nn.NLLLoss()\n",
    "optimizer = torch.optim.Adam(model.parameters(), lr=LR, weight_decay=WEIGHT_DECAY) # Adam optimizer\n",
    "\n",
    "# Metrics\n",
    "num_classes = 10 # number of classes in MNIST\n",
    "acc_metric_val = MulticlassAccuracy(num_classes=num_classes).to(DEVICE) # accuracy metric for validation\n",
    "acc_metric_test = MulticlassAccuracy(num_classes=num_classes).to(DEVICE) # accuracy metric for test"
   ]
  },
  {
   "cell_type": "markdown",
   "id": "2efd75cf",
   "metadata": {},
   "source": [
    "### Train / Validate Loop (with early stopping)"
   ]
  },
  {
   "cell_type": "code",
   "execution_count": 11,
   "id": "1a807688",
   "metadata": {},
   "outputs": [],
   "source": [
    "# Training function for one epoch\n",
    "\n",
    "def train_one_epoch(model, loader, optimizer, criterion):\n",
    "    model.train()\n",
    "    running_loss, correct, total = 0.0, 0, 0\n",
    "    for x,y in loader:\n",
    "        x,y = x.to(DEVICE), y.to(DEVICE)\n",
    "        logits = model(x)\n",
    "        loss = criterion(logits, y)\n",
    "\n",
    "        optimizer.zero_grad()\n",
    "        loss.backward()\n",
    "        optimizer.step()\n",
    "\n",
    "        running_loss += loss.item() * x.size(0)\n",
    "        preds = logits.argmax(dim=1)\n",
    "        correct += (preds == y).sum().item()\n",
    "        total += y.size(0)\n",
    "    return running_loss/total, correct/total"
   ]
  },
  {
   "cell_type": "code",
   "execution_count": 12,
   "id": "fc7e0089",
   "metadata": {},
   "outputs": [],
   "source": [
    "# Evaluation function\n",
    "\n",
    "def evaluate(model, loader, criterion, metric):\n",
    "    model.eval()\n",
    "    metric.reset()\n",
    "    running_loss, total = 0.0, 0\n",
    "    with torch.no_grad():\n",
    "        for x,y in loader:\n",
    "            x,y = x.to(DEVICE), y.to(DEVICE)\n",
    "            logits = model(x)\n",
    "            loss = criterion(logits, y)\n",
    "            running_loss += loss.item() * x.size(0)\n",
    "            total += y.size(0)\n",
    "            metric.update(logits, y)\n",
    "    return running_loss/total, metric.compute().item()"
   ]
  },
  {
   "cell_type": "code",
   "execution_count": 16,
   "id": "2d9d0e15",
   "metadata": {},
   "outputs": [
    {
     "name": "stderr",
     "output_type": "stream",
     "text": [
      "/Users/morse/Documents/morse-workspaces/computer-vision-engineer/.venv/lib/python3.13/site-packages/torch/utils/data/dataloader.py:684: UserWarning: 'pin_memory' argument is set as true but not supported on MPS now, then device pinned memory won't be used.\n",
      "  warnings.warn(warn_msg)\n"
     ]
    },
    {
     "name": "stdout",
     "output_type": "stream",
     "text": [
      "Epoch 01 | train loss 0.0325 acc 0.9895 | val loss 0.0538 acc 0.9840\n",
      "Epoch 02 | train loss 0.0321 acc 0.9900 | val loss 0.0417 acc 0.9865\n",
      "Epoch 03 | train loss 0.0301 acc 0.9906 | val loss 0.0476 acc 0.9852\n",
      "Epoch 04 | train loss 0.0301 acc 0.9902 | val loss 0.0363 acc 0.9889\n",
      "Epoch 05 | train loss 0.0293 acc 0.9906 | val loss 0.0490 acc 0.9834\n",
      "Epoch 06 | train loss 0.0303 acc 0.9904 | val loss 0.0506 acc 0.9864\n",
      "Epoch 07 | train loss 0.0292 acc 0.9910 | val loss 0.0466 acc 0.9869\n",
      "Epoch 08 | train loss 0.0301 acc 0.9900 | val loss 0.0518 acc 0.9850\n",
      "Epoch 09 | train loss 0.0273 acc 0.9915 | val loss 0.0447 acc 0.9863\n",
      "Epoch 10 | train loss 0.0274 acc 0.9913 | val loss 0.0444 acc 0.9864\n",
      "Epoch 11 | train loss 0.0254 acc 0.9919 | val loss 0.0488 acc 0.9851\n",
      "Epoch 12 | train loss 0.0246 acc 0.9918 | val loss 0.0374 acc 0.9888\n",
      "Epoch 13 | train loss 0.0269 acc 0.9915 | val loss 0.0439 acc 0.9854\n",
      "Epoch 14 | train loss 0.0263 acc 0.9914 | val loss 0.0448 acc 0.9865\n",
      "Epoch 15 | train loss 0.0248 acc 0.9920 | val loss 0.0456 acc 0.9856\n",
      "Epoch 16 | train loss 0.0255 acc 0.9918 | val loss 0.0395 acc 0.9893\n",
      "Epoch 17 | train loss 0.0262 acc 0.9918 | val loss 0.0420 acc 0.9858\n",
      "Epoch 18 | train loss 0.0243 acc 0.9920 | val loss 0.0359 acc 0.9896\n",
      "Epoch 19 | train loss 0.0251 acc 0.9917 | val loss 0.0438 acc 0.9847\n",
      "Epoch 20 | train loss 0.0231 acc 0.9920 | val loss 0.0348 acc 0.9883\n",
      "Epoch 21 | train loss 0.0231 acc 0.9923 | val loss 0.0483 acc 0.9845\n",
      "Epoch 22 | train loss 0.0246 acc 0.9921 | val loss 0.0412 acc 0.9865\n",
      "Epoch 23 | train loss 0.0242 acc 0.9921 | val loss 0.0408 acc 0.9873\n",
      "Epoch 24 | train loss 0.0222 acc 0.9924 | val loss 0.0521 acc 0.9851\n",
      "Epoch 25 | train loss 0.0245 acc 0.9919 | val loss 0.0414 acc 0.9884\n",
      "Epoch 26 | train loss 0.0215 acc 0.9930 | val loss 0.0449 acc 0.9854\n",
      "Epoch 27 | train loss 0.0223 acc 0.9929 | val loss 0.0431 acc 0.9868\n",
      "Epoch 28 | train loss 0.0219 acc 0.9923 | val loss 0.0374 acc 0.9886\n",
      "Epoch 29 | train loss 0.0225 acc 0.9928 | val loss 0.0408 acc 0.9875\n",
      "Epoch 30 | train loss 0.0220 acc 0.9931 | val loss 0.0431 acc 0.9874\n"
     ]
    }
   ],
   "source": [
    "# Training / Validation loop with early stopping\n",
    "\n",
    "best_val_acc, best_state = 0.0, None\n",
    "history = {\"train_loss\": [], \"train_acc\": [], \"val_loss\": [], \"val_acc\": []}\n",
    "\n",
    "for epoch in range(1, EPOCHS+1):\n",
    "    tr_loss, tr_acc = train_one_epoch(model, train_loader, optimizer, criterion)\n",
    "    val_loss, val_acc = evaluate(model, val_loader, criterion, acc_metric_val)\n",
    "\n",
    "    # Record history\n",
    "    history[\"train_loss\"].append(tr_loss)\n",
    "    history[\"train_acc\"].append(tr_acc)\n",
    "    history[\"val_loss\"].append(val_loss)\n",
    "    history[\"val_acc\"].append(val_acc)\n",
    "\n",
    "    # Save the best model\n",
    "    if val_acc > best_val_acc:\n",
    "        best_val_acc, best_state = val_acc, {k: v.cpu().clone() for k,v in model.state_dict().items()}\n",
    "\n",
    "    print(f\"Epoch {epoch:02d} | train loss {tr_loss:.4f} acc {tr_acc:.4f} | val loss {val_loss:.4f} acc {val_acc:.4f}\")"
   ]
  },
  {
   "cell_type": "code",
   "execution_count": 17,
   "id": "d66f9e2d",
   "metadata": {},
   "outputs": [],
   "source": [
    "# Load the best model state (early stopping)\n",
    "if best_state is not None:\n",
    "    model.load_state_dict(best_state)\n",
    "    model.to(DEVICE)"
   ]
  },
  {
   "cell_type": "markdown",
   "id": "769bc1e5",
   "metadata": {},
   "source": [
    "### Plot Accuracy & Loss per Epoch"
   ]
  },
  {
   "cell_type": "code",
   "execution_count": 36,
   "id": "e1ccfddd",
   "metadata": {},
   "outputs": [
    {
     "data": {
      "image/png": "[encoded data removed]",
      "text/plain": [
       "<Figure size 1200x500 with 2 Axes>"
      ]
     },
     "metadata": {},
     "output_type": "display_data"
    }
   ],
   "source": [
    "epochs = range(1, EPOCHS + 1)\n",
    "\n",
    "plt.figure(figsize=(12, 5))\n",
    "\n",
    "# Plot Training & Validation Loss\n",
    "plt.subplot(1, 2, 1)\n",
    "plt.plot(epochs, history[\"train_loss\"], label=\"Train Loss\")\n",
    "plt.plot(epochs, history[\"val_loss\"], label=\"Val Loss\")\n",
    "plt.xlabel(\"Epoch\")\n",
    "plt.ylabel(\"Loss\")\n",
    "plt.title(\"Training and Validation Loss\")\n",
    "plt.legend()\n",
    "plt.grid(True)\n",
    "\n",
    "# Plot Training & Validation Accuracy\n",
    "plt.subplot(1, 2, 2)\n",
    "plt.plot(epochs, history[\"train_acc\"], label=\"Train Accuracy\")\n",
    "plt.plot(epochs, history[\"val_acc\"], label=\"Val Accuracy\")\n",
    "plt.xlabel(\"Epoch\")\n",
    "plt.ylabel(\"Accuracy\")\n",
    "plt.title(\"Training and Validation Accuracy\")\n",
    "plt.legend()\n",
    "plt.grid(True)\n",
    "\n",
    "plt.tight_layout()\n",
    "plt.show()"
   ]
  },
  {
   "cell_type": "markdown",
   "id": "afd2f279",
   "metadata": {},
   "source": [
    "### Test & Evaluate (accuracy, confusion matrix, per-class report)"
   ]
  },
  {
   "cell_type": "code",
   "execution_count": 19,
   "id": "9ca6d4f1",
   "metadata": {},
   "outputs": [
    {
     "name": "stdout",
     "output_type": "stream",
     "text": [
      "TEST | loss 0.0205 | acc 0.9936\n"
     ]
    }
   ],
   "source": [
    "# Evaluate on test set\n",
    "test_loss, test_acc = evaluate(model, test_loader, criterion, acc_metric_test)\n",
    "print(f\"TEST | loss {test_loss:.4f} | acc {test_acc:.4f}\")"
   ]
  },
  {
   "cell_type": "code",
   "execution_count": 20,
   "id": "db2b4897",
   "metadata": {},
   "outputs": [],
   "source": [
    "# Confusion Matrix\n",
    "cm_metric = MulticlassConfusionMatrix(num_classes=num_classes).to(DEVICE)\n",
    "model.eval()\n",
    "cm_metric.reset()\n",
    "\n",
    "# Compute confusion matrix\n",
    "with torch.no_grad():\n",
    "    for x,y in test_loader:\n",
    "        x,y = x.to(DEVICE), y.to(DEVICE)\n",
    "        logits = model(x)\n",
    "        cm_metric.update(logits, y)\n",
    "cm = cm_metric.compute().cpu().numpy()"
   ]
  },
  {
   "cell_type": "code",
   "execution_count": 21,
   "id": "4154a9e3",
   "metadata": {},
   "outputs": [
    {
     "data": {
      "image/png": "[encoded data removed]",
      "text/plain": [
       "<Figure size 600x600 with 2 Axes>"
      ]
     },
     "metadata": {},
     "output_type": "display_data"
    }
   ],
   "source": [
    "# Plot confusion matrix\n",
    "import matplotlib.pyplot as plt\n",
    "plt.figure(figsize=(6,6))\n",
    "plt.imshow(cm, interpolation='nearest', cmap='Blues')\n",
    "plt.title('Confusion Matrix (MNIST)')\n",
    "plt.colorbar()\n",
    "tick_marks = np.arange(num_classes)\n",
    "plt.xticks(tick_marks, tick_marks); plt.yticks(tick_marks, tick_marks)\n",
    "plt.xlabel('Predicted'); plt.ylabel('True')\n",
    "plt.tight_layout()\n",
    "plt.show()"
   ]
  },
  {
   "cell_type": "code",
   "execution_count": 22,
   "id": "e4a06c82",
   "metadata": {},
   "outputs": [],
   "source": [
    "# Save the model checkpoint\n",
    "Path(\"checkpoints\").mkdir(exist_ok=True)\n",
    "torch.save(model.state_dict(), \"checkpoints/lenet5_mnist.pt\")"
   ]
  },
  {
   "cell_type": "code",
   "execution_count": 23,
   "id": "14dfb183",
   "metadata": {},
   "outputs": [
    {
     "data": {
      "text/plain": [
       "LeNet5(\n",
       "  (c1): Conv2d(1, 6, kernel_size=(5, 5), stride=(1, 1))\n",
       "  (s2): AvgPool2d(kernel_size=2, stride=2, padding=0)\n",
       "  (c3): Conv2d(6, 16, kernel_size=(5, 5), stride=(1, 1))\n",
       "  (s4): AvgPool2d(kernel_size=2, stride=2, padding=0)\n",
       "  (c5): Conv2d(16, 120, kernel_size=(5, 5), stride=(1, 1))\n",
       "  (f6): Linear(in_features=120, out_features=84, bias=True)\n",
       "  (out): Linear(in_features=84, out_features=10, bias=True)\n",
       ")"
      ]
     },
     "execution_count": 23,
     "metadata": {},
     "output_type": "execute_result"
    }
   ],
   "source": [
    "# Load the model checkpoint\n",
    "m2 = LeNet5().to(DEVICE)\n",
    "m2.load_state_dict(torch.load(\"checkpoints/lenet5_mnist.pt\", map_location=DEVICE))\n",
    "m2.eval()"
   ]
  },
  {
   "cell_type": "markdown",
   "id": "86ae3ad0",
   "metadata": {},
   "source": [
    "### Applied"
   ]
  },
  {
   "cell_type": "code",
   "execution_count": 24,
   "id": "dce16ab1",
   "metadata": {},
   "outputs": [],
   "source": [
    "from PIL import Image, ImageOps\n",
    "import numpy as np\n",
    "import torch\n",
    "import torchvision.transforms as T\n",
    "import matplotlib.pyplot as plt\n",
    "import os, glob"
   ]
  },
  {
   "cell_type": "code",
   "execution_count": 25,
   "id": "8de07f2a",
   "metadata": {},
   "outputs": [],
   "source": [
    "# Mean and std for normalizing MNIST dataset\n",
    "MNIST_MEAN, MNIST_STD = 0.1307, 0.3081\n",
    "\n",
    "# Version compatibility for Pillow\n",
    "try:\n",
    "    # Pillow 9/10 compatibility\n",
    "    BILINEAR = Image.Resampling.BILINEAR\n",
    "    LANCZOS = Image.Resampling.LANCZOS\n",
    "except:\n",
    "    # Older Pillow versions\n",
    "    BILINEAR = Image.BILINEAR\n",
    "    LANCZOS = Image.LANCZOS"
   ]
  },
  {
   "cell_type": "markdown",
   "id": "a11a43c9",
   "metadata": {},
   "source": [
    "#### Utilitie"
   ]
  },
  {
   "cell_type": "code",
   "execution_count": 26,
   "id": "18c7a53f",
   "metadata": {},
   "outputs": [],
   "source": [
    "def _auto_invert(img_L: Image.Image) -> Image.Image:\n",
    "    \"\"\"Invert image if background is darker than foreground (based on mean pixel value)\"\"\"\n",
    "    \n",
    "    # average pixel value in [0..255]; high mean = white background\n",
    "    mean_val = np.asarray(img_L).mean()\n",
    "    return ImageOps.invert(img_L) if mean_val > 127 else img_L\n",
    "\n",
    "def _tight_crop(img_L: Image.Image, thr=10):\n",
    "    \"\"\"Crop only the area with ink (values greater than thr after inversion)\"\"\"\n",
    "\n",
    "    # Convert to numpy array\n",
    "    arr = np.asarray(img_L)\n",
    "    mask = arr > thr\n",
    "    if not mask.any():\n",
    "        return img_L  # if all pixels are below threshold, return original image\n",
    "    ys, xs = np.where(mask)\n",
    "    y0, y1 = ys.min(), ys.max()\n",
    "    x0, x1 = xs.min(), xs.max()\n",
    "    return img_L.crop((x0, y0, x1+1, y1+1))"
   ]
  },
  {
   "cell_type": "markdown",
   "id": "d2c0be72",
   "metadata": {},
   "source": [
    "#### Preprocessing Pipeline"
   ]
  },
  {
   "cell_type": "code",
   "execution_count": 27,
   "id": "e5197af4",
   "metadata": {},
   "outputs": [],
   "source": [
    "def preprocess_for_lenet(img_path: str) -> torch.Tensor:\n",
    "    \"\"\"\n",
    "    Read any image \n",
    "\n",
    "    -> Grayscale \n",
    "    -> Auto Invert \n",
    "    -> Tight Crop \n",
    "    -> Resize with longest side=20 \n",
    "    -> Paste on 28x28 canvas centered \n",
    "    -> Pad to 32x32 \n",
    "    -> ToTensor + Normalize\n",
    "\n",
    "    Return tensor shape (1, 1, 32, 32)\n",
    "    \"\"\"\n",
    "    # open image, convert to grayscale, auto invert, tight crop\n",
    "    img = Image.open(img_path).convert(\"L\")\n",
    "    img = _auto_invert(img)\n",
    "    img = _tight_crop(img)\n",
    "\n",
    "    # adjust size to have longest side = 20 pixels (keep aspect ratio)\n",
    "    w, h = img.size\n",
    "\n",
    "    # scale longest side to 20 pixels\n",
    "    if w >= h:\n",
    "        new_w, new_h = 20, max(1, int(round(20 * h / w)))\n",
    "    else:\n",
    "        new_h, new_w = 20, max(1, int(round(20 * w / h)))\n",
    "    img = img.resize((new_w, new_h), resample=LANCZOS)\n",
    "\n",
    "    # paste on 28x28 canvas centered\n",
    "    canvas28 = Image.new(\"L\", (28, 28), color=0)\n",
    "    left = (28 - new_w) // 2\n",
    "    top  = (28 - new_h) // 2\n",
    "    canvas28.paste(img, (left, top))\n",
    "\n",
    "    # pad to 32x32\n",
    "    canvas32 = ImageOps.expand(canvas28, border=2, fill=0)\n",
    "\n",
    "    # ToTensor + Normalize to match training\n",
    "    tfm = T.Compose([\n",
    "        T.ToTensor(), # (1, 32, 32), values in [0,1]\n",
    "        T.Normalize((MNIST_MEAN,), (MNIST_STD,))\n",
    "    ])\n",
    "    x = tfm(canvas32).unsqueeze(0) # (1,1,32,32)\n",
    "    return x"
   ]
  },
  {
   "cell_type": "markdown",
   "id": "ecab2e62",
   "metadata": {},
   "source": [
    "#### Predict Image"
   ]
  },
  {
   "cell_type": "code",
   "execution_count": 28,
   "id": "5fd9c8e5",
   "metadata": {},
   "outputs": [],
   "source": [
    "def predict_image(img_path: str, model, device=DEVICE, show=True, topk=3):\n",
    "    x = preprocess_for_lenet(img_path).to(device)\n",
    "    model.eval()\n",
    "    with torch.no_grad():\n",
    "        logits = model(x)\n",
    "        probs = logits.softmax(dim=1).squeeze(0).cpu().numpy()\n",
    "    pred = int(probs.argmax())\n",
    "    \n",
    "    # top-k\n",
    "    idxs = probs.argsort()[-topk:][::-1]\n",
    "    topk_list = [(int(i), float(probs[i])) for i in idxs]\n",
    "\n",
    "    print(f\"[{os.path.basename(img_path)}] Pred: {pred} | top-{topk}: {topk_list}\")\n",
    "\n",
    "    if show:\n",
    "        # display original and preprocessed images\n",
    "        fig = plt.figure(figsize=(6,3))\n",
    "        ax1 = fig.add_subplot(1,2,1)\n",
    "        ax1.imshow(Image.open(img_path).convert(\"L\"), cmap=\"gray\")\n",
    "        ax1.set_title(\"Original\"); ax1.axis(\"off\")\n",
    "\n",
    "        # preprocessed image\n",
    "        img = Image.open(img_path).convert(\"L\")\n",
    "        img = _auto_invert(img)\n",
    "        img = _tight_crop(img)\n",
    "        \n",
    "        # adjust size to have longest side = 20 pixels (keep aspect ratio)\n",
    "        w,h = img.size\n",
    "        if w >= h:\n",
    "            new_w, new_h = 20, max(1, int(round(20*h/w)))\n",
    "        else:\n",
    "            new_h, new_w = 20, max(1, int(round(20*w/h)))\n",
    "        img = img.resize((new_w, new_h), resample=LANCZOS)\n",
    "        canvas28 = Image.new(\"L\", (28,28), color=0); canvas28.paste(img, ((28-new_w)//2, (28-new_h)//2))\n",
    "        canvas32 = ImageOps.expand(canvas28, border=2, fill=0)\n",
    "\n",
    "        ax2 = fig.add_subplot(1,2,2)\n",
    "        ax2.imshow(np.asarray(canvas32), cmap=\"gray\")\n",
    "        ax2.set_title(f\"Preprocessed → 32×32\\nPred: {pred}\"); ax2.axis(\"off\")\n",
    "        plt.tight_layout(); plt.show()\n",
    "\n",
    "    return pred, topk_list"
   ]
  },
  {
   "cell_type": "code",
   "execution_count": 29,
   "id": "62cddac5",
   "metadata": {},
   "outputs": [
    {
     "name": "stdout",
     "output_type": "stream",
     "text": [
      "[my_num_1.png] Pred: 9 | top-5: [(9, 0.9947532415390015), (3, 0.0038192563224583864), (5, 0.0008915970101952553), (8, 0.0004597869701683521), (2, 3.885988189722411e-05)]\n"
     ]
    },
    {
     "data": {
      "image/png": "[encoded data removed]",
      "text/plain": [
       "<Figure size 600x300 with 2 Axes>"
      ]
     },
     "metadata": {},
     "output_type": "display_data"
    }
   ],
   "source": [
    "_ = predict_image(\"../images/my_num_1.png\", m2, show=True, topk=5)"
   ]
  }
 ],
 "metadata": {
  "kernelspec": {
   "display_name": ".venv",
   "language": "python",
   "name": "python3"
  },
  "language_info": {
   "codemirror_mode": {
    "name": "ipython",
    "version": 3
   },
   "file_extension": ".py",
   "mimetype": "text/x-python",
   "name": "python",
   "nbconvert_exporter": "python",
   "pygments_lexer": "ipython3",
   "version": "3.13.7"
  }
 },
 "nbformat": 4,
 "nbformat_minor": 5
}
